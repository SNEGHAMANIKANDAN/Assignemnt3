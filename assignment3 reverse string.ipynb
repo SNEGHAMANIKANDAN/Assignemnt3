{
 "cells": [
  {
   "cell_type": "markdown",
   "id": "644f9645",
   "metadata": {},
   "source": [
    "Write a Python program to reverse a string.\n",
    "\n",
    "\n",
    "\n",
    "Sample String : \"1234abcd\"\n",
    "\n",
    "Expected Output : \"dcba4321\""
   ]
  },
  {
   "cell_type": "code",
   "execution_count": 6,
   "id": "c530513c",
   "metadata": {},
   "outputs": [
    {
     "name": "stdout",
     "output_type": "stream",
     "text": [
      "Enter the string to be reversed\n",
      "snegha\n",
      "the reverse string is\n",
      "ahgens\n"
     ]
    }
   ],
   "source": [
    "def revstr(s):\n",
    "    return s[::-1]\n",
    "\n",
    "\n",
    "print(\"Enter the string to be reversed\")\n",
    "string=input()\n",
    "rev=revstr(string)\n",
    "print(\"the reverse string is\")\n",
    "print(rev)\n"
   ]
  },
  {
   "cell_type": "code",
   "execution_count": null,
   "id": "a97285e9",
   "metadata": {},
   "outputs": [],
   "source": []
  }
 ],
 "metadata": {
  "kernelspec": {
   "display_name": "Python 3 (ipykernel)",
   "language": "python",
   "name": "python3"
  },
  "language_info": {
   "codemirror_mode": {
    "name": "ipython",
    "version": 3
   },
   "file_extension": ".py",
   "mimetype": "text/x-python",
   "name": "python",
   "nbconvert_exporter": "python",
   "pygments_lexer": "ipython3",
   "version": "3.10.1"
  }
 },
 "nbformat": 4,
 "nbformat_minor": 5
}
