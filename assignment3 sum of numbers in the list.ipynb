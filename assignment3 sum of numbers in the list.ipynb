{
 "cells": [
  {
   "cell_type": "markdown",
   "id": "557f8205",
   "metadata": {},
   "source": [
    " Write a Python function to sum all the numbers in a list.\n",
    "\n",
    "\n",
    "\n",
    "Sample List : (8, 2, 3, 0, 7)\n",
    "\n",
    "Expected Output : 20\n",
    "\n"
   ]
  },
  {
   "cell_type": "code",
   "execution_count": 4,
   "id": "f378e650",
   "metadata": {},
   "outputs": [
    {
     "name": "stdout",
     "output_type": "stream",
     "text": [
      "Enter the number of elements u want in the list\n",
      "5\n",
      "3\n",
      "4\n",
      "5\n",
      "6\n",
      "7\n",
      "The given list is [3, 4, 5, 6, 7]\n",
      "The sum of the list printed is 25\n"
     ]
    }
   ],
   "source": [
    "def add(list1):\n",
    "    add=0\n",
    "    for i in range(len(list1)):\n",
    "        add+=list1[i]\n",
    "    return add\n",
    "\n",
    "\n",
    "l=[]\n",
    "print(\"Enter the number of elements u want in the list\")\n",
    "n=int(input())\n",
    "for i in range(n):\n",
    "    l.append(int(input()))\n",
    "\n",
    "print(\"The given list is\", l)    \n",
    "a=add(l)\n",
    "print(\"The sum of the list printed is\",a)"
   ]
  },
  {
   "cell_type": "code",
   "execution_count": null,
   "id": "7ddd7817",
   "metadata": {},
   "outputs": [],
   "source": []
  }
 ],
 "metadata": {
  "kernelspec": {
   "display_name": "Python 3 (ipykernel)",
   "language": "python",
   "name": "python3"
  },
  "language_info": {
   "codemirror_mode": {
    "name": "ipython",
    "version": 3
   },
   "file_extension": ".py",
   "mimetype": "text/x-python",
   "name": "python",
   "nbconvert_exporter": "python",
   "pygments_lexer": "ipython3",
   "version": "3.10.1"
  }
 },
 "nbformat": 4,
 "nbformat_minor": 5
}
