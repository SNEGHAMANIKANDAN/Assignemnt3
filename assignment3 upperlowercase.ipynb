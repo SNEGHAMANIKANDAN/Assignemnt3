{
 "cells": [
  {
   "cell_type": "markdown",
   "id": "801fc7fd",
   "metadata": {},
   "source": [
    "Write a Python function that accepts a string and calculate the number of upper case letters and lower case letters.\n",
    "\n",
    "\n",
    "\n",
    "﻿Sample String : 'The quick Brow Fox'\n",
    "\n",
    "Expected Output :\n",
    "\n",
    "No. of Upper case characters : 3\n",
    "\n",
    "No. of Lower case Characters : 12"
   ]
  },
  {
   "cell_type": "code",
   "execution_count": 7,
   "id": "076714ab",
   "metadata": {},
   "outputs": [
    {
     "name": "stdout",
     "output_type": "stream",
     "text": [
      "Enter the string whose upper and lower case letters has to be calculated \n",
      "Snegha ManiKanDaN\n",
      "The upper case letters in the given string is 5\n",
      "The upper case letters in the given string is 11\n"
     ]
    }
   ],
   "source": [
    "def count(s):\n",
    "    upper=lower=0\n",
    "    for i in s:\n",
    "        if (i.isupper()== True):\n",
    "            upper+=1\n",
    "        if (i.islower()==True):\n",
    "            \n",
    "            lower+=1\n",
    "    return upper,lower\n",
    "            \n",
    "\n",
    "print(\"Enter the string whose upper and lower case letters has to be calculated \")\n",
    "string=input()\n",
    "\n",
    "    \n",
    "countupper, countlower=count(string)\n",
    "            \n",
    "print(\"The upper case letters in the given string is\", countupper)\n",
    "print(\"The upper case letters in the given string is\", countlower)"
   ]
  },
  {
   "cell_type": "code",
   "execution_count": null,
   "id": "d4d6113c",
   "metadata": {},
   "outputs": [],
   "source": []
  }
 ],
 "metadata": {
  "kernelspec": {
   "display_name": "Python 3 (ipykernel)",
   "language": "python",
   "name": "python3"
  },
  "language_info": {
   "codemirror_mode": {
    "name": "ipython",
    "version": 3
   },
   "file_extension": ".py",
   "mimetype": "text/x-python",
   "name": "python",
   "nbconvert_exporter": "python",
   "pygments_lexer": "ipython3",
   "version": "3.10.1"
  }
 },
 "nbformat": 4,
 "nbformat_minor": 5
}
